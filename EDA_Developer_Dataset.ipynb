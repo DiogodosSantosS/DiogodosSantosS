{
  "nbformat": 4,
  "nbformat_minor": 0,
  "metadata": {
    "colab": {
      "name": "EDA_Developer_Dataset.ipynb",
      "provenance": [],
      "authorship_tag": "ABX9TyNO03CfckgTZuRQA2UfaH6i",
      "include_colab_link": true
    },
    "kernelspec": {
      "name": "python3",
      "display_name": "Python 3"
    },
    "language_info": {
      "name": "python"
    }
  },
  "cells": [
    {
      "cell_type": "markdown",
      "metadata": {
        "id": "view-in-github",
        "colab_type": "text"
      },
      "source": [
        "<a href=\"https://colab.research.google.com/github/DiogodosSantosS/DiogodosSantosS/blob/main/EDA_Developer_Dataset.ipynb\" target=\"_parent\"><img src=\"https://colab.research.google.com/assets/colab-badge.svg\" alt=\"Open In Colab\"/></a>"
      ]
    },
    {
      "cell_type": "markdown",
      "source": [
        "The study of this dataset was made during the course \"Handling Missing Data\" from the website:\n",
        "https://www.codecademy.com/\n",
        "\n",
        "In the end I've got a certificate for the completion of this course."
      ],
      "metadata": {
        "id": "kG7_XIEQhLxt"
      }
    },
    {
      "cell_type": "markdown",
      "source": [
        "### Explore data"
      ],
      "metadata": {
        "id": "Mk16AxFffMj8"
      }
    },
    {
      "cell_type": "markdown",
      "source": [
        "In this study case, we decide to start by performing some Exploratory Data Analysis (EDA). This will provide us with a high-level understanding of the data fields, as well as help us identify which columns have missing data. In this case, we load the dataset into a pandas DataFrame and call it df. After that, we'll take a moment to explore which columns we have in the data."
      ],
      "metadata": {
        "id": "oYdwNXVIgYx7"
      }
    },
    {
      "cell_type": "code",
      "execution_count": 9,
      "metadata": {
        "colab": {
          "base_uri": "https://localhost:8080/"
        },
        "id": "E3Kj6scdbuhj",
        "outputId": "d9984b74-1b3d-4f8e-d54b-d11c086cf804"
      },
      "outputs": [
        {
          "output_type": "stream",
          "name": "stdout",
          "text": [
            "Index(['RespondentID', 'Year', 'Country', 'Employment', 'UndergradMajor',\n",
            "       'DevType', 'LanguageWorkedWith', 'LanguageDesireNextYear',\n",
            "       'DatabaseWorkedWith', 'DatabaseDesireNextYear', 'PlatformWorkedWith',\n",
            "       'PlatformDesireNextYear', 'Hobbyist', 'OrgSize', 'YearsCodePro',\n",
            "       'JobSeek', 'ConvertedComp', 'WorkWeekHrs', 'NEWJobHunt',\n",
            "       'NEWJobHuntResearch', 'NEWLearn'],\n",
            "      dtype='object')\n"
          ]
        },
        {
          "output_type": "stream",
          "name": "stderr",
          "text": [
            "/usr/local/lib/python3.7/dist-packages/IPython/core/interactiveshell.py:2882: DtypeWarning: Columns (18,19,20) have mixed types.Specify dtype option on import or set low_memory=False.\n",
            "  exec(code_obj, self.user_global_ns, self.user_ns)\n"
          ]
        }
      ],
      "source": [
        "import pandas as pd\n",
        "\n",
        "df = pd.read_csv('developer_dataset.csv')\n",
        "\n",
        "#Explore all the columns\n",
        "print(df.columns)"
      ]
    },
    {
      "cell_type": "code",
      "source": [
        "#see a row count for each column\n",
        "\n",
        "df.count()"
      ],
      "metadata": {
        "colab": {
          "base_uri": "https://localhost:8080/"
        },
        "id": "Lz-hgL50djuW",
        "outputId": "4227f5ca-adff-4eae-f831-0d64d925c3ff"
      },
      "execution_count": 10,
      "outputs": [
        {
          "output_type": "execute_result",
          "data": {
            "text/plain": [
              "RespondentID              111209\n",
              "Year                      111209\n",
              "Country                   111209\n",
              "Employment                109425\n",
              "UndergradMajor             98453\n",
              "DevType                   100433\n",
              "LanguageWorkedWith        102018\n",
              "LanguageDesireNextYear     96044\n",
              "DatabaseWorkedWith         85859\n",
              "DatabaseDesireNextYear     74234\n",
              "PlatformWorkedWith         91609\n",
              "PlatformDesireNextYear     85376\n",
              "Hobbyist                   68352\n",
              "OrgSize                    54804\n",
              "YearsCodePro               94793\n",
              "JobSeek                    60556\n",
              "ConvertedComp              91333\n",
              "WorkWeekHrs                51089\n",
              "NEWJobHunt                 19127\n",
              "NEWJobHuntResearch         18683\n",
              "NEWLearn                   24226\n",
              "dtype: int64"
            ]
          },
          "metadata": {},
          "execution_count": 10
        }
      ]
    },
    {
      "cell_type": "code",
      "source": [
        "#summary statistics on the dataset\n",
        "\n",
        "df.describe()"
      ],
      "metadata": {
        "colab": {
          "base_uri": "https://localhost:8080/",
          "height": 297
        },
        "id": "NHnt6EDKefwL",
        "outputId": "99081fa9-de4b-4232-da4b-742ff8d444f1"
      },
      "execution_count": 11,
      "outputs": [
        {
          "output_type": "execute_result",
          "data": {
            "text/html": [
              "\n",
              "  <div id=\"df-38c9f6f7-6407-4455-8fef-9b9aa3951634\">\n",
              "    <div class=\"colab-df-container\">\n",
              "      <div>\n",
              "<style scoped>\n",
              "    .dataframe tbody tr th:only-of-type {\n",
              "        vertical-align: middle;\n",
              "    }\n",
              "\n",
              "    .dataframe tbody tr th {\n",
              "        vertical-align: top;\n",
              "    }\n",
              "\n",
              "    .dataframe thead th {\n",
              "        text-align: right;\n",
              "    }\n",
              "</style>\n",
              "<table border=\"1\" class=\"dataframe\">\n",
              "  <thead>\n",
              "    <tr style=\"text-align: right;\">\n",
              "      <th></th>\n",
              "      <th>RespondentID</th>\n",
              "      <th>Year</th>\n",
              "      <th>YearsCodePro</th>\n",
              "      <th>ConvertedComp</th>\n",
              "      <th>WorkWeekHrs</th>\n",
              "    </tr>\n",
              "  </thead>\n",
              "  <tbody>\n",
              "    <tr>\n",
              "      <th>count</th>\n",
              "      <td>111209.000000</td>\n",
              "      <td>111209.000000</td>\n",
              "      <td>94793.000000</td>\n",
              "      <td>9.133300e+04</td>\n",
              "      <td>51089.000000</td>\n",
              "    </tr>\n",
              "    <tr>\n",
              "      <th>mean</th>\n",
              "      <td>19262.039709</td>\n",
              "      <td>2018.854832</td>\n",
              "      <td>9.547045</td>\n",
              "      <td>1.251777e+05</td>\n",
              "      <td>41.051670</td>\n",
              "    </tr>\n",
              "    <tr>\n",
              "      <th>std</th>\n",
              "      <td>11767.011322</td>\n",
              "      <td>0.777503</td>\n",
              "      <td>7.548931</td>\n",
              "      <td>2.461218e+05</td>\n",
              "      <td>13.833929</td>\n",
              "    </tr>\n",
              "    <tr>\n",
              "      <th>min</th>\n",
              "      <td>1.000000</td>\n",
              "      <td>2018.000000</td>\n",
              "      <td>0.000000</td>\n",
              "      <td>0.000000e+00</td>\n",
              "      <td>1.000000</td>\n",
              "    </tr>\n",
              "    <tr>\n",
              "      <th>25%</th>\n",
              "      <td>9268.000000</td>\n",
              "      <td>2018.000000</td>\n",
              "      <td>4.000000</td>\n",
              "      <td>4.600000e+04</td>\n",
              "      <td>40.000000</td>\n",
              "    </tr>\n",
              "    <tr>\n",
              "      <th>50%</th>\n",
              "      <td>18535.000000</td>\n",
              "      <td>2019.000000</td>\n",
              "      <td>8.000000</td>\n",
              "      <td>7.900000e+04</td>\n",
              "      <td>40.000000</td>\n",
              "    </tr>\n",
              "    <tr>\n",
              "      <th>75%</th>\n",
              "      <td>28347.000000</td>\n",
              "      <td>2019.000000</td>\n",
              "      <td>14.000000</td>\n",
              "      <td>1.200000e+05</td>\n",
              "      <td>42.000000</td>\n",
              "    </tr>\n",
              "    <tr>\n",
              "      <th>max</th>\n",
              "      <td>42857.000000</td>\n",
              "      <td>2020.000000</td>\n",
              "      <td>50.000000</td>\n",
              "      <td>2.000000e+06</td>\n",
              "      <td>475.000000</td>\n",
              "    </tr>\n",
              "  </tbody>\n",
              "</table>\n",
              "</div>\n",
              "      <button class=\"colab-df-convert\" onclick=\"convertToInteractive('df-38c9f6f7-6407-4455-8fef-9b9aa3951634')\"\n",
              "              title=\"Convert this dataframe to an interactive table.\"\n",
              "              style=\"display:none;\">\n",
              "        \n",
              "  <svg xmlns=\"http://www.w3.org/2000/svg\" height=\"24px\"viewBox=\"0 0 24 24\"\n",
              "       width=\"24px\">\n",
              "    <path d=\"M0 0h24v24H0V0z\" fill=\"none\"/>\n",
              "    <path d=\"M18.56 5.44l.94 2.06.94-2.06 2.06-.94-2.06-.94-.94-2.06-.94 2.06-2.06.94zm-11 1L8.5 8.5l.94-2.06 2.06-.94-2.06-.94L8.5 2.5l-.94 2.06-2.06.94zm10 10l.94 2.06.94-2.06 2.06-.94-2.06-.94-.94-2.06-.94 2.06-2.06.94z\"/><path d=\"M17.41 7.96l-1.37-1.37c-.4-.4-.92-.59-1.43-.59-.52 0-1.04.2-1.43.59L10.3 9.45l-7.72 7.72c-.78.78-.78 2.05 0 2.83L4 21.41c.39.39.9.59 1.41.59.51 0 1.02-.2 1.41-.59l7.78-7.78 2.81-2.81c.8-.78.8-2.07 0-2.86zM5.41 20L4 18.59l7.72-7.72 1.47 1.35L5.41 20z\"/>\n",
              "  </svg>\n",
              "      </button>\n",
              "      \n",
              "  <style>\n",
              "    .colab-df-container {\n",
              "      display:flex;\n",
              "      flex-wrap:wrap;\n",
              "      gap: 12px;\n",
              "    }\n",
              "\n",
              "    .colab-df-convert {\n",
              "      background-color: #E8F0FE;\n",
              "      border: none;\n",
              "      border-radius: 50%;\n",
              "      cursor: pointer;\n",
              "      display: none;\n",
              "      fill: #1967D2;\n",
              "      height: 32px;\n",
              "      padding: 0 0 0 0;\n",
              "      width: 32px;\n",
              "    }\n",
              "\n",
              "    .colab-df-convert:hover {\n",
              "      background-color: #E2EBFA;\n",
              "      box-shadow: 0px 1px 2px rgba(60, 64, 67, 0.3), 0px 1px 3px 1px rgba(60, 64, 67, 0.15);\n",
              "      fill: #174EA6;\n",
              "    }\n",
              "\n",
              "    [theme=dark] .colab-df-convert {\n",
              "      background-color: #3B4455;\n",
              "      fill: #D2E3FC;\n",
              "    }\n",
              "\n",
              "    [theme=dark] .colab-df-convert:hover {\n",
              "      background-color: #434B5C;\n",
              "      box-shadow: 0px 1px 3px 1px rgba(0, 0, 0, 0.15);\n",
              "      filter: drop-shadow(0px 1px 2px rgba(0, 0, 0, 0.3));\n",
              "      fill: #FFFFFF;\n",
              "    }\n",
              "  </style>\n",
              "\n",
              "      <script>\n",
              "        const buttonEl =\n",
              "          document.querySelector('#df-38c9f6f7-6407-4455-8fef-9b9aa3951634 button.colab-df-convert');\n",
              "        buttonEl.style.display =\n",
              "          google.colab.kernel.accessAllowed ? 'block' : 'none';\n",
              "\n",
              "        async function convertToInteractive(key) {\n",
              "          const element = document.querySelector('#df-38c9f6f7-6407-4455-8fef-9b9aa3951634');\n",
              "          const dataTable =\n",
              "            await google.colab.kernel.invokeFunction('convertToInteractive',\n",
              "                                                     [key], {});\n",
              "          if (!dataTable) return;\n",
              "\n",
              "          const docLinkHtml = 'Like what you see? Visit the ' +\n",
              "            '<a target=\"_blank\" href=https://colab.research.google.com/notebooks/data_table.ipynb>data table notebook</a>'\n",
              "            + ' to learn more about interactive tables.';\n",
              "          element.innerHTML = '';\n",
              "          dataTable['output_type'] = 'display_data';\n",
              "          await google.colab.output.renderOutput(dataTable, element);\n",
              "          const docLink = document.createElement('div');\n",
              "          docLink.innerHTML = docLinkHtml;\n",
              "          element.appendChild(docLink);\n",
              "        }\n",
              "      </script>\n",
              "    </div>\n",
              "  </div>\n",
              "  "
            ],
            "text/plain": [
              "        RespondentID           Year  YearsCodePro  ConvertedComp   WorkWeekHrs\n",
              "count  111209.000000  111209.000000  94793.000000   9.133300e+04  51089.000000\n",
              "mean    19262.039709    2018.854832      9.547045   1.251777e+05     41.051670\n",
              "std     11767.011322       0.777503      7.548931   2.461218e+05     13.833929\n",
              "min         1.000000    2018.000000      0.000000   0.000000e+00      1.000000\n",
              "25%      9268.000000    2018.000000      4.000000   4.600000e+04     40.000000\n",
              "50%     18535.000000    2019.000000      8.000000   7.900000e+04     40.000000\n",
              "75%     28347.000000    2019.000000     14.000000   1.200000e+05     42.000000\n",
              "max     42857.000000    2020.000000     50.000000   2.000000e+06    475.000000"
            ]
          },
          "metadata": {},
          "execution_count": 11
        }
      ]
    },
    {
      "cell_type": "markdown",
      "source": [
        "* Are there columns that have more missing data than \n",
        "others?\n",
        "* Which columns seem interesting?\n",
        "What insights would you want to gain from the data?\n",
        "* Are there columns that have potentially more sensitive data than others? How would that change our strategies in dealing with them?"
      ],
      "metadata": {
        "id": "nuqpMrGRe5ri"
      }
    },
    {
      "cell_type": "markdown",
      "source": [
        "### Delete highly missing data"
      ],
      "metadata": {
        "id": "idur3UnUfPZj"
      }
    },
    {
      "cell_type": "markdown",
      "source": [
        "In order do select which columns will be worth it to work with, I'll check which ones have more than 60% of the corresponding values, present."
      ],
      "metadata": {
        "id": "-NviLxzifepA"
      }
    },
    {
      "cell_type": "code",
      "source": [
        "#The code allows us to see the percentage missing data for each column.\n",
        "\n",
        "maxRows = df['RespondentID'].count()\n",
        "\n",
        "print('% Missing Data: ')\n",
        "print((1 - df.count() / maxRows) * 100)"
      ],
      "metadata": {
        "colab": {
          "base_uri": "https://localhost:8080/"
        },
        "id": "gBNIGH-be8BO",
        "outputId": "efad6a4a-cc6c-4e77-b8b9-34624fed5758"
      },
      "execution_count": 12,
      "outputs": [
        {
          "output_type": "stream",
          "name": "stdout",
          "text": [
            "% Missing Data: \n",
            "RespondentID               0.000000\n",
            "Year                       0.000000\n",
            "Country                    0.000000\n",
            "Employment                 1.604187\n",
            "UndergradMajor            11.470295\n",
            "DevType                    9.689863\n",
            "LanguageWorkedWith         8.264619\n",
            "LanguageDesireNextYear    13.636486\n",
            "DatabaseWorkedWith        22.794918\n",
            "DatabaseDesireNextYear    33.248208\n",
            "PlatformWorkedWith        17.624473\n",
            "PlatformDesireNextYear    23.229235\n",
            "Hobbyist                  38.537349\n",
            "OrgSize                   50.719816\n",
            "YearsCodePro              14.761395\n",
            "JobSeek                   45.547573\n",
            "ConvertedComp             17.872654\n",
            "WorkWeekHrs               54.060373\n",
            "NEWJobHunt                82.800852\n",
            "NEWJobHuntResearch        83.200101\n",
            "NEWLearn                  78.215792\n",
            "dtype: float64\n"
          ]
        }
      ]
    },
    {
      "cell_type": "markdown",
      "source": [
        "Based on the above numbers, you assume that it is safe to remove the following columns:\n",
        "\n",
        "* NEWJobHunt\n",
        "* NEWJobHuntResearch\n",
        "* NEWLearn"
      ],
      "metadata": {
        "id": "CXoggwZrgo7r"
      }
    },
    {
      "cell_type": "code",
      "source": [
        "#Use pandas to drop the DataFrame columns with less than 60% of the values.\n",
        "\n",
        "df.drop(['NEWJobHunt', 'NEWJobHuntResearch', 'NEWLearn'],\n",
        "axis = 1,\n",
        "inplace = True)"
      ],
      "metadata": {
        "id": "1V6nbQaPgrnE"
      },
      "execution_count": 13,
      "outputs": []
    },
    {
      "cell_type": "markdown",
      "source": [
        "### Analyze developers by country"
      ],
      "metadata": {
        "id": "hMEeNK7ihE8w"
      }
    },
    {
      "cell_type": "markdown",
      "source": [
        "What questions should we ask the data?\n",
        "\n",
        "Determine what kind of missing data we have for employment and developer type. One way to do that is check, at a country level, where the data is missing for each field:"
      ],
      "metadata": {
        "id": "tmUPZ5oBhaeJ"
      }
    },
    {
      "cell_type": "code",
      "source": [
        "#import libraries for visualization\n",
        "import seaborn as sns\n",
        "import matplotlib.pyplot as plt\n",
        "\n",
        "df[['RespondentID', 'Country']].groupby('Country').count()\n",
        "\n",
        "missingData = df[['Employment', 'DevType']].isnull().groupby(df['Country']).sum().reset_index()\n",
        "\n",
        "A = sns.catplot(\n",
        "    data = missingData, kind = 'bar',\n",
        "    x = 'Country', y = 'Employment',\n",
        "    height = 6, aspect = 2)\n",
        "\n",
        "B = sns.catplot(\n",
        "    data = missingData, kind = 'bar',\n",
        "    x = 'Country', y = 'DevType',\n",
        "    height = 6, aspect = 2)"
      ],
      "metadata": {
        "colab": {
          "base_uri": "https://localhost:8080/",
          "height": 865
        },
        "id": "5K5SMlQKh-WV",
        "outputId": "2eada190-2f56-444c-9d7b-8d87907d0f2a"
      },
      "execution_count": 27,
      "outputs": [
        {
          "output_type": "display_data",
          "data": {
            "image/png": "[encoded data removed]",
            "text/plain": [
              "<Figure size 864x432 with 1 Axes>"
            ]
          },
          "metadata": {
            "needs_background": "light"
          }
        },
        {
          "output_type": "display_data",
          "data": {
            "image/png": "[encoded data removed]",
            "text/plain": [
              "<Figure size 864x432 with 1 Axes>"
            ]
          },
          "metadata": {
            "needs_background": "light"
          }
        }
      ]
    },
    {
      "cell_type": "markdown",
      "source": [
        "We can see from the above plots, the data doesn’t appear to be missing for any country significantly more than any other. Using our domain knowledge, we understand that the missing data appears to scale with the relative size of each country (e.g. there is more missing data in the United States vs. Japan because there will be more respondents there). We also note that the United States and Germany have significantly more developers (on average) than the other countries, explaining why they have more missing data points."
      ],
      "metadata": {
        "id": "So8HRtTqnAKi"
      }
    },
    {
      "cell_type": "markdown",
      "source": [
        "We determine that the missing data for these two columns can be categorized as MCAR (Missing Completely At Random). This means we can safely delete the rows that have missing data in these columns! This is a prime example of where we can employ Pairwise Deletion to only delete rows that have missing data for either Employment or DevType:"
      ],
      "metadata": {
        "id": "Zogg-8rWmykU"
      }
    },
    {
      "cell_type": "code",
      "source": [
        "#Droping null values\n",
        "df.dropna(subset = ['Employment', 'DevType'],\n",
        "          inplace = True,\n",
        "          how = 'any')"
      ],
      "metadata": {
        "id": "dRXHXeyUnSCv"
      },
      "execution_count": 28,
      "outputs": []
    },
    {
      "cell_type": "markdown",
      "source": [
        "Now we can analyze the distribution of employment and developer types by country. We decide to aggregate the employment data by key developer roles that align with major parts of the development lifecycle:\n",
        "* Front-end\n",
        "* Back-end\n",
        "* Full-stack\n",
        "* Mobile development\n",
        "* Administration role"
      ],
      "metadata": {
        "id": "vJouWuCKnsOr"
      }
    },
    {
      "cell_type": "code",
      "source": [
        "empfig = sns.catplot(x=\"Country\", col=\"Employment\",\n",
        "                data=df, kind=\"count\",\n",
        "                height=6, aspect=1.5);\n",
        " \n",
        "# Focus on a few of the key developer types outlined in the Stack Overflow survey\n",
        "devdf = df[['Country','DevType']]\n",
        "devdf.loc[devdf['DevType'].str.contains('back-end'), 'BackEnd'] = True\n",
        "devdf.loc[devdf['DevType'].str.contains('front-end'), 'FrontEnd'] = True\n",
        "devdf.loc[devdf['DevType'].str.contains('full-stack'), 'FullStack'] = True\n",
        "devdf.loc[devdf['DevType'].str.contains('mobile'), 'Mobile'] = True\n",
        "devdf.loc[devdf['DevType'].str.contains('administrator'), 'Admin'] = True\n",
        " \n",
        "devdf = devdf.melt(id_vars=['Country'], \n",
        "    value_vars=['BackEnd','FrontEnd','FullStack','Mobile','Admin'], \n",
        "    var_name='DevCat',\n",
        "    value_name='DevFlag')\n",
        " \n",
        "devdf.dropna(how='any', inplace=True)\n",
        " \n",
        "devFig = sns.catplot(x=\"Country\", col=\"DevCat\",\n",
        "                data=devdf, kind=\"count\",\n",
        "                height=6, aspect=1.5);"
      ],
      "metadata": {
        "colab": {
          "base_uri": "https://localhost:8080/",
          "height": 447
        },
        "id": "0EMqw6Yln8nA",
        "outputId": "9b4b4be5-0757-44c6-8877-fa58c49c17b6"
      },
      "execution_count": 29,
      "outputs": [
        {
          "output_type": "stream",
          "name": "stderr",
          "text": [
            "/usr/local/lib/python3.7/dist-packages/pandas/core/indexing.py:1684: SettingWithCopyWarning: \n",
            "A value is trying to be set on a copy of a slice from a DataFrame.\n",
            "Try using .loc[row_indexer,col_indexer] = value instead\n",
            "\n",
            "See the caveats in the documentation: https://pandas.pydata.org/pandas-docs/stable/user_guide/indexing.html#returning-a-view-versus-a-copy\n",
            "  self.obj[key] = infer_fill_value(value)\n",
            "/usr/local/lib/python3.7/dist-packages/pandas/core/indexing.py:1817: SettingWithCopyWarning: \n",
            "A value is trying to be set on a copy of a slice from a DataFrame.\n",
            "Try using .loc[row_indexer,col_indexer] = value instead\n",
            "\n",
            "See the caveats in the documentation: https://pandas.pydata.org/pandas-docs/stable/user_guide/indexing.html#returning-a-view-versus-a-copy\n",
            "  self._setitem_single_column(loc, value, pi)\n"
          ]
        },
        {
          "output_type": "display_data",
          "data": {
            "image/png": "[encoded data removed]",
            "text/plain": [
              "<Figure size 3888x432 with 6 Axes>"
            ]
          },
          "metadata": {
            "needs_background": "light"
          }
        },
        {
          "output_type": "display_data",
          "data": {
            "image/png": "[encoded data removed]",
            "text/plain": [
              "<Figure size 3240x432 with 5 Axes>"
            ]
          },
          "metadata": {
            "needs_background": "light"
          }
        }
      ]
    },
    {
      "cell_type": "markdown",
      "source": [
        "We see that the vast majority of respondents are employed full-time. Since these developers are mainly employed, this data will be relevant for a client who wants to see what developers look for in a potential job. \n",
        "We also see that the majority of developers will have skill sets in front-end, back-end, or full-stack development. This is interesting, and shows that the market values developers who can excel in at least a major part of the development lifecycle, if not the entire stack."
      ],
      "metadata": {
        "id": "qMOBt_xIoemP"
      }
    },
    {
      "cell_type": "markdown",
      "source": [
        "# Investigate developer undergraduate majors"
      ],
      "metadata": {
        "id": "7KbWQ_q1oj3_"
      }
    },
    {
      "cell_type": "markdown",
      "source": [
        "As we saw before, you are missing about 11% of the data for UndergradMajor. Why do you think this data is missing? Could something have happened over the course of these three years? Is the fact that data is missing accurate?\n",
        "\n",
        "To test this theory, we'll take a look at the distribution of majors over each year:"
      ],
      "metadata": {
        "id": "3fepGcx5o3uq"
      }
    },
    {
      "cell_type": "code",
      "source": [
        "missingUndergrad = df['UndergradMajor'].isnull().groupby(df['Year']).sum().reset_index()\n",
        " \n",
        "sns.catplot(x = \"Year\", y = \"UndergradMajor\",\n",
        "                data = missingUndergrad, kind = \"bar\",\n",
        "                height = 4, aspect = 1);"
      ],
      "metadata": {
        "colab": {
          "base_uri": "https://localhost:8080/",
          "height": 297
        },
        "id": "U2BmNEUUo_R7",
        "outputId": "3040b74b-c281-4d3c-9ddf-aea1ea0ba74f"
      },
      "execution_count": 31,
      "outputs": [
        {
          "output_type": "display_data",
          "data": {
            "image/png": "[encoded data removed]",
            "text/plain": [
              "<Figure size 288x288 with 1 Axes>"
            ]
          },
          "metadata": {
            "needs_background": "light"
          }
        }
      ]
    },
    {
      "cell_type": "markdown",
      "source": [
        "All of the data for 2020 undergrad majors is filled in, indicating that each participant in these surveys had some level of decision for their undergrad major."
      ],
      "metadata": {
        "id": "tj3OjoJIpQkn"
      }
    },
    {
      "cell_type": "markdown",
      "source": [
        "The interest is in what major a person ultimately landed on, as this would be the educational background they would carry into a job search. We want to carry that value backwards for each participant to fill in any missing data. This is a great use for one of our Single Imputation techniques: NOCB (Next Observation Carried Backward)! Fill in the gaps using NOCB:"
      ],
      "metadata": {
        "id": "VoBUEj9QpZk4"
      }
    },
    {
      "cell_type": "code",
      "source": [
        "# Sort by ID and Year so that each person's data is carried backwards correctly\n",
        "df = df.sort_values(['RespondentID','Year'])\n",
        " \n",
        "df['UndergradMajor'].bfill(axis=0, inplace=True)"
      ],
      "metadata": {
        "id": "23P6-JsiporH"
      },
      "execution_count": 32,
      "outputs": []
    },
    {
      "cell_type": "markdown",
      "source": [
        "From here, we analyze the major distribution for each year, using a vertical bar chart visualization:"
      ],
      "metadata": {
        "id": "v3ngFEd9pxeS"
      }
    },
    {
      "cell_type": "code",
      "source": [
        "# Key major groups outlined in the Stack Overflow survey\n",
        "majors = ['social science','natural science','computer science','development','another engineering','never declared']\n",
        " \n",
        "edudf = df[['Year','UndergradMajor']]\n",
        "edudf.dropna(how='any', inplace=True)\n",
        "edudf.loc[edudf['UndergradMajor'].str.contains('(?i)social science'), 'SocialScience'] = True\n",
        "edudf.loc[edudf['UndergradMajor'].str.contains('(?i)natural science'), 'NaturalScience'] = True\n",
        "edudf.loc[edudf['UndergradMajor'].str.contains('(?i)computer science'), 'ComSci'] = True\n",
        "edudf.loc[edudf['UndergradMajor'].str.contains('(?i)development'), 'ComSci'] = True\n",
        "edudf.loc[edudf['UndergradMajor'].str.contains('(?i)another engineering'), 'OtherEng'] = True\n",
        "edudf.loc[edudf['UndergradMajor'].str.contains('(?i)never declared'), 'NoMajor'] = True\n",
        " \n",
        "edudf = edudf.melt(id_vars=['Year'], \n",
        "    value_vars=['SocialScience','NaturalScience','ComSci','OtherEng','NoMajor'], \n",
        "    var_name='EduCat',\n",
        "    value_name='EduFlag')\n",
        " \n",
        "edudf.dropna(how='any', inplace=True)\n",
        "edudf = edudf.groupby(['Year','EduCat']).count().reset_index()\n",
        " \n",
        "eduFig = sns.catplot(x = \"Year\", y = 'EduFlag', col = \"EduCat\",\n",
        "                data = edudf, kind = \"bar\",\n",
        "                height = 6, aspect = 1.5);"
      ],
      "metadata": {
        "colab": {
          "base_uri": "https://localhost:8080/",
          "height": 438
        },
        "id": "9uB5FJuJpzVH",
        "outputId": "af19557a-c00f-4620-cfb0-2ec70145f3b2"
      },
      "execution_count": 33,
      "outputs": [
        {
          "output_type": "stream",
          "name": "stderr",
          "text": [
            "/usr/local/lib/python3.7/dist-packages/pandas/util/_decorators.py:311: SettingWithCopyWarning: \n",
            "A value is trying to be set on a copy of a slice from a DataFrame\n",
            "\n",
            "See the caveats in the documentation: https://pandas.pydata.org/pandas-docs/stable/user_guide/indexing.html#returning-a-view-versus-a-copy\n",
            "  return func(*args, **kwargs)\n",
            "/usr/local/lib/python3.7/dist-packages/pandas/core/indexing.py:1684: SettingWithCopyWarning: \n",
            "A value is trying to be set on a copy of a slice from a DataFrame.\n",
            "Try using .loc[row_indexer,col_indexer] = value instead\n",
            "\n",
            "See the caveats in the documentation: https://pandas.pydata.org/pandas-docs/stable/user_guide/indexing.html#returning-a-view-versus-a-copy\n",
            "  self.obj[key] = infer_fill_value(value)\n",
            "/usr/local/lib/python3.7/dist-packages/pandas/core/indexing.py:1817: SettingWithCopyWarning: \n",
            "A value is trying to be set on a copy of a slice from a DataFrame.\n",
            "Try using .loc[row_indexer,col_indexer] = value instead\n",
            "\n",
            "See the caveats in the documentation: https://pandas.pydata.org/pandas-docs/stable/user_guide/indexing.html#returning-a-view-versus-a-copy\n",
            "  self._setitem_single_column(loc, value, pi)\n"
          ]
        },
        {
          "output_type": "display_data",
          "data": {
            "image/png": "[encoded data removed]",
            "text/plain": [
              "<Figure size 3240x432 with 5 Axes>"
            ]
          },
          "metadata": {
            "needs_background": "light"
          }
        }
      ]
    },
    {
      "cell_type": "markdown",
      "source": [
        "We notice that the vast majority of people who enter the workforce for development have some background in a Computer Science major. Interestingly, however, the number of Computer Science majors significantly declined over the years surveyed, indicating that there could be other majors that have successfully entered the workforce for their desired job. This would require further analysis and could allow an individual to pursue a separate education path and still end up in some kind of developer role."
      ],
      "metadata": {
        "id": "vPJGzZiaqlGI"
      }
    },
    {
      "cell_type": "markdown",
      "source": [
        "# Examine the relationship between years of experience and compensation"
      ],
      "metadata": {
        "id": "ATNXJwouqoa1"
      }
    },
    {
      "cell_type": "markdown",
      "source": [
        "At this point, we have studied the demographics of developers around the world, from where they live to the education paths they have taken. Now, we turn your focus to the various aspects that would influence the job-hunting process.\n",
        "\n",
        "Years of experience are an important metric when looking to understand the general skill and technical capabilities of a potential candidate. Compensation is also important for our client to understand what the “going rate” for a particular developer is in today’s market. We might assume that there is a strong correlation between experience and job compensation, making it an excellent hypothesis to explore.\n",
        "\n",
        "In order to understand a bit about the data for each of these two fields, we perform some more exploratory analysis:"
      ],
      "metadata": {
        "id": "MOMNH-Kuqr40"
      }
    },
    {
      "cell_type": "code",
      "source": [
        "compFields = df[['Year','YearsCodePro','ConvertedComp']]\n",
        " \n",
        "D = sns.boxplot(x=\"Year\", y=\"YearsCodePro\",\n",
        "            data=compFields)\n",
        " \n",
        "E = sns.boxplot(x=\"Year\", y=\"ConvertedComp\",\n",
        "            data=compFields)"
      ],
      "metadata": {
        "colab": {
          "base_uri": "https://localhost:8080/",
          "height": 290
        },
        "id": "LrIRjyGcq_lY",
        "outputId": "a1c03466-0d14-4a30-c681-95822cab9f21"
      },
      "execution_count": 34,
      "outputs": [
        {
          "output_type": "display_data",
          "data": {
            "image/png": "[encoded data removed]",
            "text/plain": [
              "<Figure size 432x288 with 1 Axes>"
            ]
          },
          "metadata": {
            "needs_background": "light"
          }
        }
      ]
    },
    {
      "cell_type": "markdown",
      "source": [
        "We see that although there are some outlier data points for each column, the overall distribution is fairly consistent year-over-year. This indicates that there is a strong correlation between the data points, which should tell a good story about how experience can translate into compensation. Since there is a clear trend with the data points, we decide the best method for filling in the missing data for these two columns is through Multiple Imputation:"
      ],
      "metadata": {
        "id": "iaHANlKXrOcc"
      }
    },
    {
      "cell_type": "code",
      "source": [
        "import numpy as np\n",
        "from sklearn.experimental import enable_iterative_imputer\n",
        "from sklearn.impute import IterativeImputer\n",
        "from sklearn.model_selection import train_test_split\n",
        " \n",
        "imputedf = df[['YearsCodePro','ConvertedComp']]\n",
        " \n",
        "traindf, testdf = train_test_split(imputedf, train_size=0.1)\n",
        " \n",
        "# Create the IterativeImputer model to predict missing values\n",
        "imp = IterativeImputer(max_iter=20, random_state=0)\n",
        " \n",
        "# Fit the model to the the test dataset\n",
        "imp.fit(imputedf)\n",
        " \n",
        "# Transform the model on the entire dataset\n",
        "compdf = pd.DataFrame(np.round(imp.transform(imputedf),0), columns=['YearsCodePro','ConvertedComp'])"
      ],
      "metadata": {
        "id": "aTWI49eqr07X"
      },
      "execution_count": 35,
      "outputs": []
    },
    {
      "cell_type": "markdown",
      "source": [
        "The above code will loop through (up to 20 times), and fill in the missing data based on the context provided by the other column. This should create data points that are indicative of the overall trend of the data. Now, you can analyze the relationship between YearsCodePro and CinvertedComp through the use of a boxplot like so:"
      ],
      "metadata": {
        "id": "kQxk44ift2ZY"
      }
    },
    {
      "cell_type": "code",
      "source": [
        "compPlotdf = compdf.loc[compdf['ConvertedComp'] <= 150000]\n",
        "compPlotdf['CodeYearBins'] = pd.qcut(compPlotdf['YearsCodePro'], q=5)\n",
        " \n",
        "sns.boxplot(x=\"CodeYearBins\", y=\"ConvertedComp\",\n",
        "            data=compPlotdf)"
      ],
      "metadata": {
        "colab": {
          "base_uri": "https://localhost:8080/",
          "height": 418
        },
        "id": "ZR5ZTaOPt_Ml",
        "outputId": "2810c614-eee5-4dbf-964a-632fe2a9bcc8"
      },
      "execution_count": 36,
      "outputs": [
        {
          "output_type": "stream",
          "name": "stderr",
          "text": [
            "/usr/local/lib/python3.7/dist-packages/ipykernel_launcher.py:2: SettingWithCopyWarning: \n",
            "A value is trying to be set on a copy of a slice from a DataFrame.\n",
            "Try using .loc[row_indexer,col_indexer] = value instead\n",
            "\n",
            "See the caveats in the documentation: https://pandas.pydata.org/pandas-docs/stable/user_guide/indexing.html#returning-a-view-versus-a-copy\n",
            "  \n"
          ]
        },
        {
          "output_type": "execute_result",
          "data": {
            "text/plain": [
              "<matplotlib.axes._subplots.AxesSubplot at 0x7f48e23f37d0>"
            ]
          },
          "metadata": {},
          "execution_count": 36
        },
        {
          "output_type": "display_data",
          "data": {
            "image/png": "[encoded data removed]",
            "text/plain": [
              "<Figure size 432x288 with 1 Axes>"
            ]
          },
          "metadata": {
            "needs_background": "light"
          }
        }
      ]
    },
    {
      "cell_type": "markdown",
      "source": [
        "The plot above validates our hypothesis from before. While there are high (and low) earning developers at every experience level, experience appears to correlate with compensation. The more experienced a developer was, the more (on average) they were compensated."
      ],
      "metadata": {
        "id": "iBLTbUhGwFYj"
      }
    },
    {
      "cell_type": "markdown",
      "source": [
        "# Summary and Results"
      ],
      "metadata": {
        "id": "S9nFHs9BwMIA"
      }
    },
    {
      "cell_type": "markdown",
      "source": [
        "At this point, we have analyzed information about the developer community from a variety of points of view. Our client understands the global presence of the developer community, their varied backgrounds, and how their experience translates into compensation. Overall, these statistical analyses can guide actions in moving forward with a staffing plan that aligns with your client’s growth plan and technical requirements.\n",
        "\n",
        "By using a variety of techniques for handling missing data, we were able to reliably curate a cleaner dataset to fuel this set of analyses. These strategies allow us to salvage otherwise messy data, and should help us in the future with other datasets."
      ],
      "metadata": {
        "id": "bQmoIs_YweRu"
      }
    },
    {
      "cell_type": "markdown",
      "source": [
        "# Dataset Acknowledgements"
      ],
      "metadata": {
        "id": "_TFQ42uNwvUB"
      }
    },
    {
      "cell_type": "markdown",
      "source": [
        "The dataset provided is the result of a series of surveys hosted by Stack Overflow to understand their developer community. For the purposes of this project, the dataset has been slightly modified for the years 2018-2020."
      ],
      "metadata": {
        "id": "Pebhc1djwx1y"
      }
    }
  ]
}